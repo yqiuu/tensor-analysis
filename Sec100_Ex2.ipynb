{
 "cells": [
  {
   "cell_type": "code",
   "execution_count": 1,
   "metadata": {
    "collapsed": false
   },
   "outputs": [
    {
     "data": {
      "text/latex": [
       "\\begin{equation}\\Gamma{}^{r}{}_{r}{}_{r}=- \\frac{r_{g}}{2 r \\left(r - r_{g}\\right)}\\end{equation}"
      ],
      "text/plain": [
       "<IPython.core.display.Latex object>"
      ]
     },
     "metadata": {},
     "output_type": "display_data"
    },
    {
     "data": {
      "text/latex": [
       "\\begin{equation}\\Gamma{}^{r}{}_{\\theta}{}_{\\theta}=- r + r_{g}\\end{equation}"
      ],
      "text/plain": [
       "<IPython.core.display.Latex object>"
      ]
     },
     "metadata": {},
     "output_type": "display_data"
    },
    {
     "data": {
      "text/latex": [
       "\\begin{equation}\\Gamma{}^{r}{}_{\\phi}{}_{\\phi}=- \\left(r - r_{g}\\right) \\sin^{2}{\\left (\\theta \\right )}\\end{equation}"
      ],
      "text/plain": [
       "<IPython.core.display.Latex object>"
      ]
     },
     "metadata": {},
     "output_type": "display_data"
    },
    {
     "data": {
      "text/latex": [
       "\\begin{equation}\\Gamma{}^{\\theta}{}_{r}{}_{\\theta}=\\Gamma{}^{\\theta}{}_{\\theta}{}_{r}=\\Gamma{}^{\\phi}{}_{r}{}_{\\phi}=\\Gamma{}^{\\phi}{}_{\\phi}{}_{r}=\\frac{1}{r}\\end{equation}"
      ],
      "text/plain": [
       "<IPython.core.display.Latex object>"
      ]
     },
     "metadata": {},
     "output_type": "display_data"
    },
    {
     "data": {
      "text/latex": [
       "\\begin{equation}\\Gamma{}^{\\theta}{}_{\\phi}{}_{\\phi}=- \\sin{\\left (\\theta \\right )} \\cos{\\left (\\theta \\right )}\\end{equation}"
      ],
      "text/plain": [
       "<IPython.core.display.Latex object>"
      ]
     },
     "metadata": {},
     "output_type": "display_data"
    },
    {
     "data": {
      "text/latex": [
       "\\begin{equation}\\Gamma{}^{\\phi}{}_{\\theta}{}_{\\phi}=\\Gamma{}^{\\phi}{}_{\\phi}{}_{\\theta}=\\frac{\\cos{\\left (\\theta \\right )}}{\\sin{\\left (\\theta \\right )}}\\end{equation}"
      ],
      "text/plain": [
       "<IPython.core.display.Latex object>"
      ]
     },
     "metadata": {},
     "output_type": "display_data"
    }
   ],
   "source": [
    "# The classical theory of fields\n",
    "# Section 100\n",
    "# Excerise 2\n",
    "import sym_TA as ta\n",
    "import sympy as sym\n",
    "\n",
    "i, j, k, l, m, n, o, p, q = range(101, 110)\n",
    "r, theta, phi = sym.symbols('r, theta, phi', real = True)\n",
    "rg = sym.symbols('r_g', real = True)\n",
    "\n",
    "g = ta.SetMetric(np.array([r, theta, phi]), \n",
    "                 np.array([[1/(1 - rg/r), 0, 0],\n",
    "                           [0, r**2, 0],\n",
    "                           [0, 0, r**2*sym.sin(theta)**2]]))\n",
    "\n",
    "ch = ta.Tensor((0, 1, 1), name = '\\\\Gamma')\n",
    "ch[i, -j, -k] = 0.5*g[i,l]*(g[-l,-j].der(-k) + g[-l,-k].der(-j) - g[-j,-k].der(-l))\n",
    "ch.simplify(collect = (sym.sin(theta),))\n",
    "ta.Disp(ch, disp_type = 1)"
   ]
  },
  {
   "cell_type": "code",
   "execution_count": 2,
   "metadata": {
    "collapsed": false
   },
   "outputs": [
    {
     "data": {
      "text/latex": [
       "\\begin{equation}P{}^{r}{}_{r}=- \\frac{r_{g}}{r^{3}}\\end{equation}"
      ],
      "text/plain": [
       "<IPython.core.display.Latex object>"
      ]
     },
     "metadata": {},
     "output_type": "display_data"
    },
    {
     "data": {
      "text/latex": [
       "\\begin{equation}P{}^{\\theta}{}_{\\theta}=P{}^{\\phi}{}_{\\phi}=\\frac{r_{g}}{2 r^{3}}\\end{equation}"
      ],
      "text/plain": [
       "<IPython.core.display.Latex object>"
      ]
     },
     "metadata": {},
     "output_type": "display_data"
    }
   ],
   "source": [
    "P = ta.Tensor(2, name = 'P')\n",
    "P[-i,-k] = ch[l,-i,-k].der(-l) - ch[l,-i,-l].der(-k) + ch[l,-i,-k]*ch[m,-l,-m] - ch[l,-i,-m]*ch[m,-k,-l]\n",
    "ta.Disp(P[i,-k], disp_type = 1)"
   ]
  }
 ],
 "metadata": {
  "kernelspec": {
   "display_name": "Python 2",
   "language": "python",
   "name": "python2"
  },
  "language_info": {
   "codemirror_mode": {
    "name": "ipython",
    "version": 2
   },
   "file_extension": ".py",
   "mimetype": "text/x-python",
   "name": "python",
   "nbconvert_exporter": "python",
   "pygments_lexer": "ipython2",
   "version": "2.7.13"
  }
 },
 "nbformat": 4,
 "nbformat_minor": 0
}
