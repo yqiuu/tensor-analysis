{
 "metadata": {
  "name": ""
 },
 "nbformat": 3,
 "nbformat_minor": 0,
 "worksheets": [
  {
   "cells": [
    {
     "cell_type": "code",
     "collapsed": false,
     "input": [
      "# The classical theory of fields\n",
      "# Section 109\n",
      "# Excerise 1\n",
      "import sys\n",
      "sys.path.append('/home/yishengq/Python')\n",
      "import sym_TA as ta\n",
      "import sympy as sym\n",
      "\n",
      "i, j, k, l, m, n, o, p, q = range(101, 110)\n",
      "y, z, u, v = sym.symbols('y, z, u, v', real = True)\n",
      "f = sym.Function('f')(u, y, z)\n",
      "\n",
      "g = ta.SetMetric(np.array([u, v, y, z]), \n",
      "                 np.array([[2*f, 1, 0, 0],\n",
      "                           [1, 0, 0, 0],\n",
      "                           [0, 0, -1, 0],\n",
      "                           [0, 0, 0, -1]]))\n",
      "\n",
      "ch = ta.Tensor((0, 1, 1), name = '\\\\Gamma')\n",
      "ch[i, -j, -k] = 0.5*g[i,l]*(g[-l,-j].der(-k) + g[-l,-k].der(-j) - g[-j,-k].der(-l))\n",
      "ta.Disp(ch)"
     ],
     "language": "python",
     "metadata": {},
     "outputs": [
      {
       "latex": [
        "\\begin{equation}\\Gamma{}^{1}{}_{0}{}_{0}=\\frac{\\partial}{\\partial u} f{\\left (u,y,z \\right )}\\end{equation}"
       ],
       "metadata": {},
       "output_type": "display_data",
       "text": [
        "<IPython.core.display.Latex at 0x7f2496090390>"
       ]
      },
      {
       "latex": [
        "\\begin{equation}\\Gamma{}^{1}{}_{0}{}_{2}=\\Gamma{}^{1}{}_{2}{}_{0}=\\Gamma{}^{2}{}_{0}{}_{0}=\\frac{\\partial}{\\partial y} f{\\left (u,y,z \\right )}\\end{equation}"
       ],
       "metadata": {},
       "output_type": "display_data",
       "text": [
        "<IPython.core.display.Latex at 0x7f2496090390>"
       ]
      },
      {
       "latex": [
        "\\begin{equation}\\Gamma{}^{1}{}_{0}{}_{3}=\\Gamma{}^{1}{}_{3}{}_{0}=\\Gamma{}^{3}{}_{0}{}_{0}=\\frac{\\partial}{\\partial z} f{\\left (u,y,z \\right )}\\end{equation}"
       ],
       "metadata": {},
       "output_type": "display_data",
       "text": [
        "<IPython.core.display.Latex at 0x7f2496090390>"
       ]
      }
     ],
     "prompt_number": 1
    },
    {
     "cell_type": "code",
     "collapsed": false,
     "input": [
      "help(ta.Disp)"
     ],
     "language": "python",
     "metadata": {},
     "outputs": [
      {
       "output_type": "stream",
       "stream": "stdout",
       "text": [
        "Help on function Disp in module sym_TA:\n",
        "\n",
        "Disp(target, disp_type=0, factor=True, collect=None)\n",
        "\n"
       ]
      }
     ],
     "prompt_number": 3
    },
    {
     "cell_type": "code",
     "collapsed": false,
     "input": [
      "Riemann = ta.Tensor(4, name = 'R')\n",
      "Riemann[i, -j, -k, -l] = ch[i, -j, -l].der(-k) - ch[i, -j, -k].der(-l) + ch[i, -m, -k]*ch[m, -j, -l] - ch[i, -m, -l]*ch[m, -j, -k]\n",
      "ta.Disp(Riemann[-i,-k,-l,-m], disp_type = 1, factor = True)\n",
      "\n"
     ],
     "language": "python",
     "metadata": {},
     "outputs": [
      {
       "latex": [
        "\\begin{equation}R{}_{u}{}_{y}{}_{u}{}_{y}=-R{}_{u}{}_{y}{}_{y}{}_{u}=-R{}_{y}{}_{u}{}_{u}{}_{y}=R{}_{y}{}_{u}{}_{y}{}_{u}=- \\frac{\\partial^{2}}{\\partial y^{2}}  f{\\left (u,y,z \\right )}\\end{equation}"
       ],
       "metadata": {},
       "output_type": "display_data",
       "text": [
        "<IPython.core.display.Latex at 0x7f24ad603990>"
       ]
      },
      {
       "latex": [
        "\\begin{equation}R{}_{u}{}_{y}{}_{u}{}_{z}=-R{}_{u}{}_{y}{}_{z}{}_{u}=R{}_{u}{}_{z}{}_{u}{}_{y}=-R{}_{u}{}_{z}{}_{y}{}_{u}=-R{}_{y}{}_{u}{}_{u}{}_{z}=R{}_{y}{}_{u}{}_{z}{}_{u}=-R{}_{z}{}_{u}{}_{u}{}_{y}=R{}_{z}{}_{u}{}_{y}{}_{u}=- \\frac{\\partial^{2}}{\\partial y\\partial z}  f{\\left (u,y,z \\right )}\\end{equation}"
       ],
       "metadata": {},
       "output_type": "display_data",
       "text": [
        "<IPython.core.display.Latex at 0x7f24ad603990>"
       ]
      },
      {
       "latex": [
        "\\begin{equation}R{}_{u}{}_{z}{}_{u}{}_{z}=-R{}_{u}{}_{z}{}_{z}{}_{u}=-R{}_{z}{}_{u}{}_{u}{}_{z}=R{}_{z}{}_{u}{}_{z}{}_{u}=- \\frac{\\partial^{2}}{\\partial z^{2}}  f{\\left (u,y,z \\right )}\\end{equation}"
       ],
       "metadata": {},
       "output_type": "display_data",
       "text": [
        "<IPython.core.display.Latex at 0x7f24ad603990>"
       ]
      }
     ],
     "prompt_number": 4
    },
    {
     "cell_type": "code",
     "collapsed": false,
     "input": [
      "Ricci = ta.Tensor(2, name = 'R')\n",
      "Ricci[-i, -k] = Riemann[l, -i, -l, -k]\n",
      "ta.Disp(Ricci[-i,-k], disp_type = 1, factor = True)"
     ],
     "language": "python",
     "metadata": {},
     "outputs": [
      {
       "latex": [
        "\\begin{equation}R{}_{u}{}_{u}=\\frac{\\partial^{2}}{\\partial y^{2}}  f{\\left (u,y,z \\right )} + \\frac{\\partial^{2}}{\\partial z^{2}}  f{\\left (u,y,z \\right )}\\end{equation}"
       ],
       "metadata": {},
       "output_type": "display_data",
       "text": [
        "<IPython.core.display.Latex at 0x7f24b1b5d390>"
       ]
      }
     ],
     "prompt_number": 9
    }
   ],
   "metadata": {}
  }
 ]
}