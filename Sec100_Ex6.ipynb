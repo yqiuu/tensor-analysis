{
 "metadata": {
  "name": ""
 },
 "nbformat": 3,
 "nbformat_minor": 0,
 "worksheets": [
  {
   "cells": [
    {
     "cell_type": "code",
     "collapsed": false,
     "input": [
      "# The classical theory of fields\n",
      "# Section 100\n",
      "# Excerise 6\n",
      "\n",
      "import sys\n",
      "sys.path.append('/home/yishengq/Python')\n",
      "import sym_TA as ta\n",
      "import sympy as sym\n",
      "\n",
      "i, j, k, l, m, n, o, p, q = range(101, 110)\n",
      "t, phi, rho, z = sym.symbols('t, phi, rho, z', real = True)\n",
      "mu = sym.Function('mu')(rho, z)\n",
      "nu = sym.Function('nu')(rho, z)\n",
      "omega = sym.Function('omega')(rho, z)\n",
      "\n",
      "g = ta.SetMetric(np.array([t, phi, rho, z]), \n",
      "                 np.array([[sym.exp(nu), 0 ,0 ,0],\n",
      "                           [0, -sym.exp(omega), 0, 0],\n",
      "                           [0, 0, -sym.exp(mu), 0],\n",
      "                           [0, 0, 0, -sym.exp(mu)]]))\n",
      "\n",
      "# Christoffel Symbol\n",
      "ch = ta.Tensor((0, 1, 1), name = '\\\\Gamma')\n",
      "ch[i, -j, -k] = 0.5*g[i,l]*(g[-l,-j].der(-k) + g[-l,-k].der(-j) - g[-j,-k].der(-l))\n",
      "ta.Disp(ch)"
     ],
     "language": "python",
     "metadata": {},
     "outputs": [
      {
       "latex": [
        "\\begin{equation}\\Gamma{}^{0}{}_{0}{}_{2}=\\Gamma{}^{0}{}_{2}{}_{0}=\\frac{1}{2} \\frac{\\partial}{\\partial \\rho} \\nu{\\left (\\rho,z \\right )}\\end{equation}"
       ],
       "metadata": {},
       "output_type": "display_data",
       "text": [
        "<IPython.core.display.Latex at 0x7fb8978d4610>"
       ]
      },
      {
       "latex": [
        "\\begin{equation}\\Gamma{}^{0}{}_{0}{}_{3}=\\Gamma{}^{0}{}_{3}{}_{0}=\\frac{1}{2} \\frac{\\partial}{\\partial z} \\nu{\\left (\\rho,z \\right )}\\end{equation}"
       ],
       "metadata": {},
       "output_type": "display_data",
       "text": [
        "<IPython.core.display.Latex at 0x7fb8978d4610>"
       ]
      },
      {
       "latex": [
        "\\begin{equation}\\Gamma{}^{1}{}_{1}{}_{2}=\\Gamma{}^{1}{}_{2}{}_{1}=\\frac{1}{2} \\frac{\\partial}{\\partial \\rho} \\omega{\\left (\\rho,z \\right )}\\end{equation}"
       ],
       "metadata": {},
       "output_type": "display_data",
       "text": [
        "<IPython.core.display.Latex at 0x7fb8978d4610>"
       ]
      },
      {
       "latex": [
        "\\begin{equation}\\Gamma{}^{1}{}_{1}{}_{3}=\\Gamma{}^{1}{}_{3}{}_{1}=\\frac{1}{2} \\frac{\\partial}{\\partial z} \\omega{\\left (\\rho,z \\right )}\\end{equation}"
       ],
       "metadata": {},
       "output_type": "display_data",
       "text": [
        "<IPython.core.display.Latex at 0x7fb8978d4610>"
       ]
      },
      {
       "latex": [
        "\\begin{equation}\\Gamma{}^{2}{}_{0}{}_{0}=\\frac{1}{2} e^{- \\mu{\\left (\\rho,z \\right )}} e^{\\nu{\\left (\\rho,z \\right )}} \\frac{\\partial}{\\partial \\rho} \\nu{\\left (\\rho,z \\right )}\\end{equation}"
       ],
       "metadata": {},
       "output_type": "display_data",
       "text": [
        "<IPython.core.display.Latex at 0x7fb8978d4610>"
       ]
      },
      {
       "latex": [
        "\\begin{equation}\\Gamma{}^{2}{}_{1}{}_{1}=- \\frac{1}{2} e^{- \\mu{\\left (\\rho,z \\right )}} e^{\\omega{\\left (\\rho,z \\right )}} \\frac{\\partial}{\\partial \\rho} \\omega{\\left (\\rho,z \\right )}\\end{equation}"
       ],
       "metadata": {},
       "output_type": "display_data",
       "text": [
        "<IPython.core.display.Latex at 0x7fb8978d4610>"
       ]
      },
      {
       "latex": [
        "\\begin{equation}\\Gamma{}^{2}{}_{2}{}_{2}=-\\Gamma{}^{2}{}_{3}{}_{3}=\\Gamma{}^{3}{}_{2}{}_{3}=\\Gamma{}^{3}{}_{3}{}_{2}=\\frac{1}{2} \\frac{\\partial}{\\partial \\rho} \\mu{\\left (\\rho,z \\right )}\\end{equation}"
       ],
       "metadata": {},
       "output_type": "display_data",
       "text": [
        "<IPython.core.display.Latex at 0x7fb8978d4610>"
       ]
      },
      {
       "latex": [
        "\\begin{equation}\\Gamma{}^{2}{}_{2}{}_{3}=\\Gamma{}^{2}{}_{3}{}_{2}=-\\Gamma{}^{3}{}_{2}{}_{2}=\\Gamma{}^{3}{}_{3}{}_{3}=\\frac{1}{2} \\frac{\\partial}{\\partial z} \\mu{\\left (\\rho,z \\right )}\\end{equation}"
       ],
       "metadata": {},
       "output_type": "display_data",
       "text": [
        "<IPython.core.display.Latex at 0x7fb8978d4610>"
       ]
      },
      {
       "latex": [
        "\\begin{equation}\\Gamma{}^{3}{}_{0}{}_{0}=\\frac{1}{2} e^{- \\mu{\\left (\\rho,z \\right )}} e^{\\nu{\\left (\\rho,z \\right )}} \\frac{\\partial}{\\partial z} \\nu{\\left (\\rho,z \\right )}\\end{equation}"
       ],
       "metadata": {},
       "output_type": "display_data",
       "text": [
        "<IPython.core.display.Latex at 0x7fb8978d4610>"
       ]
      },
      {
       "latex": [
        "\\begin{equation}\\Gamma{}^{3}{}_{1}{}_{1}=- \\frac{1}{2} e^{- \\mu{\\left (\\rho,z \\right )}} e^{\\omega{\\left (\\rho,z \\right )}} \\frac{\\partial}{\\partial z} \\omega{\\left (\\rho,z \\right )}\\end{equation}"
       ],
       "metadata": {},
       "output_type": "display_data",
       "text": [
        "<IPython.core.display.Latex at 0x7fb8978d4610>"
       ]
      }
     ],
     "prompt_number": 2
    },
    {
     "cell_type": "code",
     "collapsed": false,
     "input": [
      "Ricci = ta.Tensor(2, name = 'R')\n",
      "Ricci[-i,-k] = ch[l,-i,-k].der(-l) - ch[l,-i,-l].der(-k) + ch[l,-i,-k]*ch[m,-l,-m] - ch[l,-i,-m]*ch[m,-k,-l]\n",
      "ta.Disp(Ricci[i,-k])"
     ],
     "language": "python",
     "metadata": {},
     "outputs": [
      {
       "latex": [
        "\\begin{equation}R{}^{0}{}_{0}=\\frac{1}{4} \\left(\\frac{\\partial}{\\partial \\rho} \\nu{\\left (\\rho,z \\right )}^{2} + \\frac{\\partial}{\\partial \\rho} \\nu{\\left (\\rho,z \\right )} \\frac{\\partial}{\\partial \\rho} \\omega{\\left (\\rho,z \\right )} + \\frac{\\partial}{\\partial z} \\nu{\\left (\\rho,z \\right )}^{2} + \\frac{\\partial}{\\partial z} \\nu{\\left (\\rho,z \\right )} \\frac{\\partial}{\\partial z} \\omega{\\left (\\rho,z \\right )} + 2 \\frac{\\partial^{2}}{\\partial \\rho^{2}}  \\nu{\\left (\\rho,z \\right )} + 2 \\frac{\\partial^{2}}{\\partial z^{2}}  \\nu{\\left (\\rho,z \\right )}\\right) e^{- \\mu{\\left (\\rho,z \\right )}}\\end{equation}"
       ],
       "metadata": {},
       "output_type": "display_data",
       "text": [
        "<IPython.core.display.Latex at 0x7fb8aedcfcd0>"
       ]
      },
      {
       "latex": [
        "\\begin{equation}R{}^{1}{}_{1}=\\frac{1}{4} \\left(\\frac{\\partial}{\\partial \\rho} \\nu{\\left (\\rho,z \\right )} \\frac{\\partial}{\\partial \\rho} \\omega{\\left (\\rho,z \\right )} + \\frac{\\partial}{\\partial z} \\nu{\\left (\\rho,z \\right )} \\frac{\\partial}{\\partial z} \\omega{\\left (\\rho,z \\right )} + \\frac{\\partial}{\\partial \\rho} \\omega{\\left (\\rho,z \\right )}^{2} + \\frac{\\partial}{\\partial z} \\omega{\\left (\\rho,z \\right )}^{2} + 2 \\frac{\\partial^{2}}{\\partial \\rho^{2}}  \\omega{\\left (\\rho,z \\right )} + 2 \\frac{\\partial^{2}}{\\partial z^{2}}  \\omega{\\left (\\rho,z \\right )}\\right) e^{- \\mu{\\left (\\rho,z \\right )}}\\end{equation}"
       ],
       "metadata": {},
       "output_type": "display_data",
       "text": [
        "<IPython.core.display.Latex at 0x7fb8aedcfcd0>"
       ]
      },
      {
       "latex": [
        "\\begin{equation}R{}^{2}{}_{2}=- \\frac{1}{4} \\left(\\frac{\\partial}{\\partial \\rho} \\mu{\\left (\\rho,z \\right )} \\frac{\\partial}{\\partial \\rho} \\nu{\\left (\\rho,z \\right )} + \\frac{\\partial}{\\partial \\rho} \\mu{\\left (\\rho,z \\right )} \\frac{\\partial}{\\partial \\rho} \\omega{\\left (\\rho,z \\right )} - \\frac{\\partial}{\\partial z} \\mu{\\left (\\rho,z \\right )} \\frac{\\partial}{\\partial z} \\nu{\\left (\\rho,z \\right )} - \\frac{\\partial}{\\partial z} \\mu{\\left (\\rho,z \\right )} \\frac{\\partial}{\\partial z} \\omega{\\left (\\rho,z \\right )} - \\frac{\\partial}{\\partial \\rho} \\nu{\\left (\\rho,z \\right )}^{2} - \\frac{\\partial}{\\partial \\rho} \\omega{\\left (\\rho,z \\right )}^{2} - 2 \\frac{\\partial^{2}}{\\partial \\rho^{2}}  \\mu{\\left (\\rho,z \\right )} - 2 \\frac{\\partial^{2}}{\\partial z^{2}}  \\mu{\\left (\\rho,z \\right )} - 2 \\frac{\\partial^{2}}{\\partial \\rho^{2}}  \\nu{\\left (\\rho,z \\right )} - 2 \\frac{\\partial^{2}}{\\partial \\rho^{2}}  \\omega{\\left (\\rho,z \\right )}\\right) e^{- \\mu{\\left (\\rho,z \\right )}}\\end{equation}"
       ],
       "metadata": {},
       "output_type": "display_data",
       "text": [
        "<IPython.core.display.Latex at 0x7fb8aedcfcd0>"
       ]
      },
      {
       "latex": [
        "\\begin{equation}R{}^{2}{}_{3}=R{}^{3}{}_{2}=- \\frac{1}{4} \\left(\\frac{\\partial}{\\partial \\rho} \\mu{\\left (\\rho,z \\right )} \\frac{\\partial}{\\partial z} \\nu{\\left (\\rho,z \\right )} + \\frac{\\partial}{\\partial \\rho} \\mu{\\left (\\rho,z \\right )} \\frac{\\partial}{\\partial z} \\omega{\\left (\\rho,z \\right )} + \\frac{\\partial}{\\partial z} \\mu{\\left (\\rho,z \\right )} \\frac{\\partial}{\\partial \\rho} \\nu{\\left (\\rho,z \\right )} + \\frac{\\partial}{\\partial z} \\mu{\\left (\\rho,z \\right )} \\frac{\\partial}{\\partial \\rho} \\omega{\\left (\\rho,z \\right )} - \\frac{\\partial}{\\partial \\rho} \\nu{\\left (\\rho,z \\right )} \\frac{\\partial}{\\partial z} \\nu{\\left (\\rho,z \\right )} - \\frac{\\partial}{\\partial \\rho} \\omega{\\left (\\rho,z \\right )} \\frac{\\partial}{\\partial z} \\omega{\\left (\\rho,z \\right )} - 2 \\frac{\\partial^{2}}{\\partial \\rho\\partial z}  \\nu{\\left (\\rho,z \\right )} - 2 \\frac{\\partial^{2}}{\\partial \\rho\\partial z}  \\omega{\\left (\\rho,z \\right )}\\right) e^{- \\mu{\\left (\\rho,z \\right )}}\\end{equation}"
       ],
       "metadata": {},
       "output_type": "display_data",
       "text": [
        "<IPython.core.display.Latex at 0x7fb8aedcfcd0>"
       ]
      },
      {
       "latex": [
        "\\begin{equation}R{}^{3}{}_{3}=\\frac{1}{4} \\left(\\frac{\\partial}{\\partial \\rho} \\mu{\\left (\\rho,z \\right )} \\frac{\\partial}{\\partial \\rho} \\nu{\\left (\\rho,z \\right )} + \\frac{\\partial}{\\partial \\rho} \\mu{\\left (\\rho,z \\right )} \\frac{\\partial}{\\partial \\rho} \\omega{\\left (\\rho,z \\right )} - \\frac{\\partial}{\\partial z} \\mu{\\left (\\rho,z \\right )} \\frac{\\partial}{\\partial z} \\nu{\\left (\\rho,z \\right )} - \\frac{\\partial}{\\partial z} \\mu{\\left (\\rho,z \\right )} \\frac{\\partial}{\\partial z} \\omega{\\left (\\rho,z \\right )} + \\frac{\\partial}{\\partial z} \\nu{\\left (\\rho,z \\right )}^{2} + \\frac{\\partial}{\\partial z} \\omega{\\left (\\rho,z \\right )}^{2} + 2 \\frac{\\partial^{2}}{\\partial \\rho^{2}}  \\mu{\\left (\\rho,z \\right )} + 2 \\frac{\\partial^{2}}{\\partial z^{2}}  \\mu{\\left (\\rho,z \\right )} + 2 \\frac{\\partial^{2}}{\\partial z^{2}}  \\nu{\\left (\\rho,z \\right )} + 2 \\frac{\\partial^{2}}{\\partial z^{2}}  \\omega{\\left (\\rho,z \\right )}\\right) e^{- \\mu{\\left (\\rho,z \\right )}}\\end{equation}"
       ],
       "metadata": {},
       "output_type": "display_data",
       "text": [
        "<IPython.core.display.Latex at 0x7fb8aedcfcd0>"
       ]
      }
     ],
     "prompt_number": 5
    },
    {
     "cell_type": "code",
     "collapsed": false,
     "input": [
      "gamma = sym.Function('\\gamma')(rho, z)\n",
      "\n",
      "g = ta.SetMetric(np.array([t, phi, rho, z]), \n",
      "                 np.array([[sym.exp(nu), 0 ,0 ,0],\n",
      "                           [0, -rho**2*sym.exp(-nu), 0, 0],\n",
      "                           [0, 0, -sym.exp(gamma - nu), 0],\n",
      "                           [0, 0, 0, -sym.exp(gamma - nu)]]))\n",
      "\n",
      "# Christoffel Symbol\n",
      "ch = ta.Tensor((0, 1, 1), name = '\\\\Gamma')\n",
      "ch[i, -j, -k] = 0.5*g[i,l]*(g[-l,-j].der(-k) + g[-l,-k].der(-j) - g[-j,-k].der(-l))\n",
      "ta.Disp(ch)"
     ],
     "language": "python",
     "metadata": {},
     "outputs": [
      {
       "latex": [
        "\\begin{equation}\\Gamma{}^{0}{}_{0}{}_{2}=\\Gamma{}^{0}{}_{2}{}_{0}=\\frac{1}{2} \\frac{\\partial}{\\partial \\rho} \\nu{\\left (\\rho,z \\right )}\\end{equation}"
       ],
       "metadata": {},
       "output_type": "display_data",
       "text": [
        "<IPython.core.display.Latex at 0x7fb897734150>"
       ]
      },
      {
       "latex": [
        "\\begin{equation}\\Gamma{}^{0}{}_{0}{}_{3}=\\Gamma{}^{0}{}_{3}{}_{0}=-\\Gamma{}^{1}{}_{1}{}_{3}=-\\Gamma{}^{1}{}_{3}{}_{1}=\\frac{1}{2} \\frac{\\partial}{\\partial z} \\nu{\\left (\\rho,z \\right )}\\end{equation}"
       ],
       "metadata": {},
       "output_type": "display_data",
       "text": [
        "<IPython.core.display.Latex at 0x7fb897734150>"
       ]
      },
      {
       "latex": [
        "\\begin{equation}\\Gamma{}^{1}{}_{1}{}_{2}=\\Gamma{}^{1}{}_{2}{}_{1}=- \\frac{1}{2 \\rho} \\left(\\rho \\frac{\\partial}{\\partial \\rho} \\nu{\\left (\\rho,z \\right )} - 2\\right)\\end{equation}"
       ],
       "metadata": {},
       "output_type": "display_data",
       "text": [
        "<IPython.core.display.Latex at 0x7fb897734150>"
       ]
      },
      {
       "latex": [
        "\\begin{equation}\\Gamma{}^{2}{}_{0}{}_{0}=\\frac{1}{2} e^{- \\gamma{\\left (\\rho,z \\right )}} e^{2 \\nu{\\left (\\rho,z \\right )}} \\frac{\\partial}{\\partial \\rho} \\nu{\\left (\\rho,z \\right )}\\end{equation}"
       ],
       "metadata": {},
       "output_type": "display_data",
       "text": [
        "<IPython.core.display.Latex at 0x7fb897734150>"
       ]
      },
      {
       "latex": [
        "\\begin{equation}\\Gamma{}^{2}{}_{1}{}_{1}=\\frac{\\rho}{2} \\left(\\rho \\frac{\\partial}{\\partial \\rho} \\nu{\\left (\\rho,z \\right )} - 2\\right) e^{- \\gamma{\\left (\\rho,z \\right )}}\\end{equation}"
       ],
       "metadata": {},
       "output_type": "display_data",
       "text": [
        "<IPython.core.display.Latex at 0x7fb897734150>"
       ]
      },
      {
       "latex": [
        "\\begin{equation}\\Gamma{}^{2}{}_{2}{}_{2}=-\\Gamma{}^{2}{}_{3}{}_{3}=\\Gamma{}^{3}{}_{2}{}_{3}=\\Gamma{}^{3}{}_{3}{}_{2}=\\frac{1}{2} \\left(\\frac{\\partial}{\\partial \\rho} \\gamma{\\left (\\rho,z \\right )} - \\frac{\\partial}{\\partial \\rho} \\nu{\\left (\\rho,z \\right )}\\right)\\end{equation}"
       ],
       "metadata": {},
       "output_type": "display_data",
       "text": [
        "<IPython.core.display.Latex at 0x7fb897734150>"
       ]
      },
      {
       "latex": [
        "\\begin{equation}\\Gamma{}^{2}{}_{2}{}_{3}=\\Gamma{}^{2}{}_{3}{}_{2}=-\\Gamma{}^{3}{}_{2}{}_{2}=\\Gamma{}^{3}{}_{3}{}_{3}=\\frac{1}{2} \\left(\\frac{\\partial}{\\partial z} \\gamma{\\left (\\rho,z \\right )} - \\frac{\\partial}{\\partial z} \\nu{\\left (\\rho,z \\right )}\\right)\\end{equation}"
       ],
       "metadata": {},
       "output_type": "display_data",
       "text": [
        "<IPython.core.display.Latex at 0x7fb897734150>"
       ]
      },
      {
       "latex": [
        "\\begin{equation}\\Gamma{}^{3}{}_{0}{}_{0}=\\frac{1}{2} e^{- \\gamma{\\left (\\rho,z \\right )}} e^{2 \\nu{\\left (\\rho,z \\right )}} \\frac{\\partial}{\\partial z} \\nu{\\left (\\rho,z \\right )}\\end{equation}"
       ],
       "metadata": {},
       "output_type": "display_data",
       "text": [
        "<IPython.core.display.Latex at 0x7fb897734150>"
       ]
      },
      {
       "latex": [
        "\\begin{equation}\\Gamma{}^{3}{}_{1}{}_{1}=\\frac{\\rho^{2}}{2} e^{- \\gamma{\\left (\\rho,z \\right )}} \\frac{\\partial}{\\partial z} \\nu{\\left (\\rho,z \\right )}\\end{equation}"
       ],
       "metadata": {},
       "output_type": "display_data",
       "text": [
        "<IPython.core.display.Latex at 0x7fb897734150>"
       ]
      }
     ],
     "prompt_number": 6
    },
    {
     "cell_type": "code",
     "collapsed": false,
     "input": [
      "Ricci = ta.Tensor(2, name = 'R')\n",
      "Ricci[-i,-k] = ch[l,-i,-k].der(-l) - ch[l,-i,-l].der(-k) + ch[l,-i,-k]*ch[m,-l,-m] - ch[l,-i,-m]*ch[m,-k,-l]\n",
      "Ricci = Ricci[i,-k]\n",
      "ta.Disp(Ricci)"
     ],
     "language": "python",
     "metadata": {},
     "outputs": [
      {
       "latex": [
        "\\begin{equation}R{}^{0}{}_{0}=-R{}^{1}{}_{1}=\\frac{e^{\\nu{\\left (\\rho,z \\right )}}}{2 \\rho} \\left(\\rho \\frac{\\partial^{2}}{\\partial \\rho^{2}}  \\nu{\\left (\\rho,z \\right )} + \\rho \\frac{\\partial^{2}}{\\partial z^{2}}  \\nu{\\left (\\rho,z \\right )} + \\frac{\\partial}{\\partial \\rho} \\nu{\\left (\\rho,z \\right )}\\right) e^{- \\gamma{\\left (\\rho,z \\right )}}\\end{equation}"
       ],
       "metadata": {},
       "output_type": "display_data",
       "text": [
        "<IPython.core.display.Latex at 0x7fb897686d10>"
       ]
      },
      {
       "latex": [
        "\\begin{equation}R{}^{2}{}_{2}=- \\frac{e^{\\nu{\\left (\\rho,z \\right )}}}{2 \\rho} \\left(- \\rho \\frac{\\partial}{\\partial \\rho} \\nu{\\left (\\rho,z \\right )}^{2} - \\rho \\frac{\\partial^{2}}{\\partial \\rho^{2}}  \\gamma{\\left (\\rho,z \\right )} - \\rho \\frac{\\partial^{2}}{\\partial z^{2}}  \\gamma{\\left (\\rho,z \\right )} + \\rho \\frac{\\partial^{2}}{\\partial \\rho^{2}}  \\nu{\\left (\\rho,z \\right )} + \\rho \\frac{\\partial^{2}}{\\partial z^{2}}  \\nu{\\left (\\rho,z \\right )} + \\frac{\\partial}{\\partial \\rho} \\gamma{\\left (\\rho,z \\right )} + \\frac{\\partial}{\\partial \\rho} \\nu{\\left (\\rho,z \\right )}\\right) e^{- \\gamma{\\left (\\rho,z \\right )}}\\end{equation}"
       ],
       "metadata": {},
       "output_type": "display_data",
       "text": [
        "<IPython.core.display.Latex at 0x7fb897686d10>"
       ]
      },
      {
       "latex": [
        "\\begin{equation}R{}^{2}{}_{3}=R{}^{3}{}_{2}=- \\frac{e^{\\nu{\\left (\\rho,z \\right )}}}{2 \\rho} \\left(- \\rho \\frac{\\partial}{\\partial \\rho} \\nu{\\left (\\rho,z \\right )} \\frac{\\partial}{\\partial z} \\nu{\\left (\\rho,z \\right )} + \\frac{\\partial}{\\partial z} \\gamma{\\left (\\rho,z \\right )}\\right) e^{- \\gamma{\\left (\\rho,z \\right )}}\\end{equation}"
       ],
       "metadata": {},
       "output_type": "display_data",
       "text": [
        "<IPython.core.display.Latex at 0x7fb897686d10>"
       ]
      },
      {
       "latex": [
        "\\begin{equation}R{}^{3}{}_{3}=\\frac{e^{\\nu{\\left (\\rho,z \\right )}}}{2 \\rho} \\left(\\rho \\frac{\\partial}{\\partial z} \\nu{\\left (\\rho,z \\right )}^{2} + \\rho \\frac{\\partial^{2}}{\\partial \\rho^{2}}  \\gamma{\\left (\\rho,z \\right )} + \\rho \\frac{\\partial^{2}}{\\partial z^{2}}  \\gamma{\\left (\\rho,z \\right )} - \\rho \\frac{\\partial^{2}}{\\partial \\rho^{2}}  \\nu{\\left (\\rho,z \\right )} - \\rho \\frac{\\partial^{2}}{\\partial z^{2}}  \\nu{\\left (\\rho,z \\right )} + \\frac{\\partial}{\\partial \\rho} \\gamma{\\left (\\rho,z \\right )} - \\frac{\\partial}{\\partial \\rho} \\nu{\\left (\\rho,z \\right )}\\right) e^{- \\gamma{\\left (\\rho,z \\right )}}\\end{equation}"
       ],
       "metadata": {},
       "output_type": "display_data",
       "text": [
        "<IPython.core.display.Latex at 0x7fb897686d10>"
       ]
      }
     ],
     "prompt_number": 9
    },
    {
     "cell_type": "code",
     "collapsed": false,
     "input": [
      "ta.Disp(Ricci.value[3,3] - Ricci.value[2,2])"
     ],
     "language": "python",
     "metadata": {},
     "outputs": [
      {
       "latex": [
        "\\begin{equation}\\frac{e^{\\nu{\\left (\\rho,z \\right )}}}{2 \\rho} \\left(- \\rho \\frac{\\partial}{\\partial \\rho} \\nu{\\left (\\rho,z \\right )}^{2} + \\rho \\frac{\\partial}{\\partial z} \\nu{\\left (\\rho,z \\right )}^{2} + 2 \\frac{\\partial}{\\partial \\rho} \\gamma{\\left (\\rho,z \\right )}\\right) e^{- \\gamma{\\left (\\rho,z \\right )}}\\end{equation}"
       ],
       "metadata": {},
       "output_type": "display_data",
       "text": [
        "<IPython.core.display.Latex at 0x7fb897529a10>"
       ]
      }
     ],
     "prompt_number": 10
    }
   ],
   "metadata": {}
  }
 ]
}