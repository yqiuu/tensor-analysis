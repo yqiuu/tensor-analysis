{
 "metadata": {
  "name": ""
 },
 "nbformat": 3,
 "nbformat_minor": 0,
 "worksheets": [
  {
   "cells": [
    {
     "cell_type": "code",
     "collapsed": false,
     "input": [
      "# The classical theory of fields\n",
      "# Section 100\n",
      "# Excerise 5\n",
      "\n",
      "import sys\n",
      "sys.path.append('/home/yishengq/Python')\n",
      "import sym_TA as ta\n",
      "import sympy as sym\n",
      "\n",
      "i, j, k, l, m, n, o, p, q = range(101, 110)\n",
      "tau, R, theta, phi = sym.symbols('tau, R, theta, phi', real = True)\n",
      "mu = sym.Function('mu')(tau, R)\n",
      "nu = sym.Function('nu')(tau, R)\n",
      "lam = sym.Function('lambda')(tau, R)\n",
      "\n",
      "g = ta.SetMetric(np.array([tau, R, theta, phi]), \n",
      "                 np.array([[sym.exp(nu), 0 ,0 ,0],\n",
      "                           [0, -sym.exp(lam), 0, 0],\n",
      "                           [0, 0, -sym.exp(mu), 0],\n",
      "                           [0, 0, 0, -sym.exp(mu)*sym.sin(theta)**2]]))\n",
      "\n",
      "# Christoffel Symbol\n",
      "ch = ta.Tensor((0, 1, 1), name = '\\\\Gamma')\n",
      "ch[i, -j, -k] = 0.5*g[i,l]*(g[-l,-j].der(-k) + g[-l,-k].der(-j) - g[-j,-k].der(-l))\n",
      "ta.Disp(ch)"
     ],
     "language": "python",
     "metadata": {},
     "outputs": [
      {
       "latex": [
        "\\begin{equation}\\Gamma{}^{0}{}_{0}{}_{0}=\\frac{1}{2} \\frac{\\partial}{\\partial \\tau} \\nu{\\left (\\tau,R \\right )}\\end{equation}"
       ],
       "metadata": {},
       "output_type": "display_data",
       "text": [
        "<IPython.core.display.Latex at 0x7fd9fcced5d0>"
       ]
      },
      {
       "latex": [
        "\\begin{equation}\\Gamma{}^{0}{}_{0}{}_{1}=\\Gamma{}^{0}{}_{1}{}_{0}=\\frac{1}{2} \\frac{\\partial}{\\partial R} \\nu{\\left (\\tau,R \\right )}\\end{equation}"
       ],
       "metadata": {},
       "output_type": "display_data",
       "text": [
        "<IPython.core.display.Latex at 0x7fd9fcced5d0>"
       ]
      },
      {
       "latex": [
        "\\begin{equation}\\Gamma{}^{0}{}_{1}{}_{1}=\\frac{1}{2} e^{\\lambda{\\left (\\tau,R \\right )}} e^{- \\nu{\\left (\\tau,R \\right )}} \\frac{\\partial}{\\partial \\tau} \\lambda{\\left (\\tau,R \\right )}\\end{equation}"
       ],
       "metadata": {},
       "output_type": "display_data",
       "text": [
        "<IPython.core.display.Latex at 0x7fd9fcced5d0>"
       ]
      },
      {
       "latex": [
        "\\begin{equation}\\Gamma{}^{0}{}_{2}{}_{2}=\\frac{1}{2} e^{\\mu{\\left (\\tau,R \\right )}} e^{- \\nu{\\left (\\tau,R \\right )}} \\frac{\\partial}{\\partial \\tau} \\mu{\\left (\\tau,R \\right )}\\end{equation}"
       ],
       "metadata": {},
       "output_type": "display_data",
       "text": [
        "<IPython.core.display.Latex at 0x7fd9fcced5d0>"
       ]
      },
      {
       "latex": [
        "\\begin{equation}\\Gamma{}^{0}{}_{3}{}_{3}=\\frac{1}{2} e^{\\mu{\\left (\\tau,R \\right )}} e^{- \\nu{\\left (\\tau,R \\right )}} \\sin^{2}{\\left (\\theta \\right )} \\frac{\\partial}{\\partial \\tau} \\mu{\\left (\\tau,R \\right )}\\end{equation}"
       ],
       "metadata": {},
       "output_type": "display_data",
       "text": [
        "<IPython.core.display.Latex at 0x7fd9fcced5d0>"
       ]
      },
      {
       "latex": [
        "\\begin{equation}\\Gamma{}^{1}{}_{0}{}_{0}=\\frac{1}{2} e^{- \\lambda{\\left (\\tau,R \\right )}} e^{\\nu{\\left (\\tau,R \\right )}} \\frac{\\partial}{\\partial R} \\nu{\\left (\\tau,R \\right )}\\end{equation}"
       ],
       "metadata": {},
       "output_type": "display_data",
       "text": [
        "<IPython.core.display.Latex at 0x7fd9fcced5d0>"
       ]
      },
      {
       "latex": [
        "\\begin{equation}\\Gamma{}^{1}{}_{0}{}_{1}=\\Gamma{}^{1}{}_{1}{}_{0}=\\frac{1}{2} \\frac{\\partial}{\\partial \\tau} \\lambda{\\left (\\tau,R \\right )}\\end{equation}"
       ],
       "metadata": {},
       "output_type": "display_data",
       "text": [
        "<IPython.core.display.Latex at 0x7fd9fcced5d0>"
       ]
      },
      {
       "latex": [
        "\\begin{equation}\\Gamma{}^{1}{}_{1}{}_{1}=\\frac{1}{2} \\frac{\\partial}{\\partial R} \\lambda{\\left (\\tau,R \\right )}\\end{equation}"
       ],
       "metadata": {},
       "output_type": "display_data",
       "text": [
        "<IPython.core.display.Latex at 0x7fd9fcced5d0>"
       ]
      },
      {
       "latex": [
        "\\begin{equation}\\Gamma{}^{1}{}_{2}{}_{2}=- \\frac{1}{2} e^{- \\lambda{\\left (\\tau,R \\right )}} e^{\\mu{\\left (\\tau,R \\right )}} \\frac{\\partial}{\\partial R} \\mu{\\left (\\tau,R \\right )}\\end{equation}"
       ],
       "metadata": {},
       "output_type": "display_data",
       "text": [
        "<IPython.core.display.Latex at 0x7fd9fcced5d0>"
       ]
      },
      {
       "latex": [
        "\\begin{equation}\\Gamma{}^{1}{}_{3}{}_{3}=- \\frac{1}{2} e^{- \\lambda{\\left (\\tau,R \\right )}} e^{\\mu{\\left (\\tau,R \\right )}} \\sin^{2}{\\left (\\theta \\right )} \\frac{\\partial}{\\partial R} \\mu{\\left (\\tau,R \\right )}\\end{equation}"
       ],
       "metadata": {},
       "output_type": "display_data",
       "text": [
        "<IPython.core.display.Latex at 0x7fd9fcced5d0>"
       ]
      },
      {
       "latex": [
        "\\begin{equation}\\Gamma{}^{2}{}_{0}{}_{2}=\\Gamma{}^{2}{}_{2}{}_{0}=\\Gamma{}^{3}{}_{0}{}_{3}=\\Gamma{}^{3}{}_{3}{}_{0}=\\frac{1}{2} \\frac{\\partial}{\\partial \\tau} \\mu{\\left (\\tau,R \\right )}\\end{equation}"
       ],
       "metadata": {},
       "output_type": "display_data",
       "text": [
        "<IPython.core.display.Latex at 0x7fd9fcced5d0>"
       ]
      },
      {
       "latex": [
        "\\begin{equation}\\Gamma{}^{2}{}_{1}{}_{2}=\\Gamma{}^{2}{}_{2}{}_{1}=\\Gamma{}^{3}{}_{1}{}_{3}=\\Gamma{}^{3}{}_{3}{}_{1}=\\frac{1}{2} \\frac{\\partial}{\\partial R} \\mu{\\left (\\tau,R \\right )}\\end{equation}"
       ],
       "metadata": {},
       "output_type": "display_data",
       "text": [
        "<IPython.core.display.Latex at 0x7fd9fcced5d0>"
       ]
      },
      {
       "latex": [
        "\\begin{equation}\\Gamma{}^{2}{}_{3}{}_{3}=- \\sin{\\left (\\theta \\right )} \\cos{\\left (\\theta \\right )}\\end{equation}"
       ],
       "metadata": {},
       "output_type": "display_data",
       "text": [
        "<IPython.core.display.Latex at 0x7fd9fcced5d0>"
       ]
      },
      {
       "latex": [
        "\\begin{equation}\\Gamma{}^{3}{}_{2}{}_{3}=\\Gamma{}^{3}{}_{3}{}_{2}=\\frac{\\cos{\\left (\\theta \\right )}}{\\sin{\\left (\\theta \\right )}}\\end{equation}"
       ],
       "metadata": {},
       "output_type": "display_data",
       "text": [
        "<IPython.core.display.Latex at 0x7fd9fcced5d0>"
       ]
      }
     ],
     "prompt_number": 2
    },
    {
     "cell_type": "code",
     "collapsed": false,
     "input": [
      "Ricci = ta.Tensor(2, name = 'R')\n",
      "Ricci[-i,-k] = ch[l,-i,-k].der(-l) - ch[l,-i,-l].der(-k) + ch[l,-i,-k]*ch[m,-l,-m] - ch[l,-i,-m]*ch[m,-k,-l]\n",
      "G = ta.Tensor(2, name = 'G')\n",
      "G[i,-k] = Ricci[i,-k] - 0.5*g[i,-k]*Ricci[l,-l]\n",
      "ta.Disp(G)"
     ],
     "language": "python",
     "metadata": {},
     "outputs": [
      {
       "latex": [
        "\\begin{equation}G{}^{0}{}_{0}=\\frac{1}{4} \\left(2 e^{\\lambda{\\left (\\tau,R \\right )}} e^{\\mu{\\left (\\tau,R \\right )}} \\frac{\\partial}{\\partial \\tau} \\lambda{\\left (\\tau,R \\right )} \\frac{\\partial}{\\partial \\tau} \\mu{\\left (\\tau,R \\right )} + e^{\\lambda{\\left (\\tau,R \\right )}} e^{\\mu{\\left (\\tau,R \\right )}} \\frac{\\partial}{\\partial \\tau} \\mu{\\left (\\tau,R \\right )}^{2} + 4 e^{\\lambda{\\left (\\tau,R \\right )}} e^{\\nu{\\left (\\tau,R \\right )}} + 2 e^{\\mu{\\left (\\tau,R \\right )}} e^{\\nu{\\left (\\tau,R \\right )}} \\frac{\\partial}{\\partial R} \\lambda{\\left (\\tau,R \\right )} \\frac{\\partial}{\\partial R} \\mu{\\left (\\tau,R \\right )} - 3 e^{\\mu{\\left (\\tau,R \\right )}} e^{\\nu{\\left (\\tau,R \\right )}} \\frac{\\partial}{\\partial R} \\mu{\\left (\\tau,R \\right )}^{2} - 4 e^{\\mu{\\left (\\tau,R \\right )}} e^{\\nu{\\left (\\tau,R \\right )}} \\frac{\\partial^{2}}{\\partial R^{2}}  \\mu{\\left (\\tau,R \\right )}\\right) e^{- \\lambda{\\left (\\tau,R \\right )}} e^{- \\mu{\\left (\\tau,R \\right )}} e^{- \\nu{\\left (\\tau,R \\right )}}\\end{equation}"
       ],
       "metadata": {},
       "output_type": "display_data",
       "text": [
        "<IPython.core.display.Latex at 0x7fd9e2674850>"
       ]
      },
      {
       "latex": [
        "\\begin{equation}G{}^{0}{}_{1}=\\frac{1}{2} \\left(\\frac{\\partial}{\\partial \\tau} \\lambda{\\left (\\tau,R \\right )} \\frac{\\partial}{\\partial R} \\mu{\\left (\\tau,R \\right )} - \\frac{\\partial}{\\partial R} \\mu{\\left (\\tau,R \\right )} \\frac{\\partial}{\\partial \\tau} \\mu{\\left (\\tau,R \\right )} + \\frac{\\partial}{\\partial \\tau} \\mu{\\left (\\tau,R \\right )} \\frac{\\partial}{\\partial R} \\nu{\\left (\\tau,R \\right )} - 2 \\frac{\\partial^{2}}{\\partial R\\partial \\tau}  \\mu{\\left (\\tau,R \\right )}\\right) e^{- \\nu{\\left (\\tau,R \\right )}}\\end{equation}"
       ],
       "metadata": {},
       "output_type": "display_data",
       "text": [
        "<IPython.core.display.Latex at 0x7fd9e2674850>"
       ]
      },
      {
       "latex": [
        "\\begin{equation}G{}^{1}{}_{0}=- \\frac{1}{2} \\left(\\frac{\\partial}{\\partial \\tau} \\lambda{\\left (\\tau,R \\right )} \\frac{\\partial}{\\partial R} \\mu{\\left (\\tau,R \\right )} - \\frac{\\partial}{\\partial R} \\mu{\\left (\\tau,R \\right )} \\frac{\\partial}{\\partial \\tau} \\mu{\\left (\\tau,R \\right )} + \\frac{\\partial}{\\partial \\tau} \\mu{\\left (\\tau,R \\right )} \\frac{\\partial}{\\partial R} \\nu{\\left (\\tau,R \\right )} - 2 \\frac{\\partial^{2}}{\\partial R\\partial \\tau}  \\mu{\\left (\\tau,R \\right )}\\right) e^{- \\lambda{\\left (\\tau,R \\right )}}\\end{equation}"
       ],
       "metadata": {},
       "output_type": "display_data",
       "text": [
        "<IPython.core.display.Latex at 0x7fd9e2674850>"
       ]
      },
      {
       "latex": [
        "\\begin{equation}G{}^{1}{}_{1}=- \\frac{1}{4} \\left(- 3 e^{\\lambda{\\left (\\tau,R \\right )}} e^{\\mu{\\left (\\tau,R \\right )}} \\frac{\\partial}{\\partial \\tau} \\mu{\\left (\\tau,R \\right )}^{2} + 2 e^{\\lambda{\\left (\\tau,R \\right )}} e^{\\mu{\\left (\\tau,R \\right )}} \\frac{\\partial}{\\partial \\tau} \\mu{\\left (\\tau,R \\right )} \\frac{\\partial}{\\partial \\tau} \\nu{\\left (\\tau,R \\right )} - 4 e^{\\lambda{\\left (\\tau,R \\right )}} e^{\\mu{\\left (\\tau,R \\right )}} \\frac{\\partial^{2}}{\\partial \\tau^{2}}  \\mu{\\left (\\tau,R \\right )} - 4 e^{\\lambda{\\left (\\tau,R \\right )}} e^{\\nu{\\left (\\tau,R \\right )}} + e^{\\mu{\\left (\\tau,R \\right )}} e^{\\nu{\\left (\\tau,R \\right )}} \\frac{\\partial}{\\partial R} \\mu{\\left (\\tau,R \\right )}^{2} + 2 e^{\\mu{\\left (\\tau,R \\right )}} e^{\\nu{\\left (\\tau,R \\right )}} \\frac{\\partial}{\\partial R} \\mu{\\left (\\tau,R \\right )} \\frac{\\partial}{\\partial R} \\nu{\\left (\\tau,R \\right )}\\right) e^{- \\lambda{\\left (\\tau,R \\right )}} e^{- \\mu{\\left (\\tau,R \\right )}} e^{- \\nu{\\left (\\tau,R \\right )}}\\end{equation}"
       ],
       "metadata": {},
       "output_type": "display_data",
       "text": [
        "<IPython.core.display.Latex at 0x7fd9e2674850>"
       ]
      },
      {
       "latex": [
        "\\begin{equation}G{}^{2}{}_{2}=G{}^{3}{}_{3}=\\frac{1}{4} \\left(e^{\\lambda{\\left (\\tau,R \\right )}} \\frac{\\partial}{\\partial \\tau} \\lambda{\\left (\\tau,R \\right )}^{2} + e^{\\lambda{\\left (\\tau,R \\right )}} \\frac{\\partial}{\\partial \\tau} \\lambda{\\left (\\tau,R \\right )} \\frac{\\partial}{\\partial \\tau} \\mu{\\left (\\tau,R \\right )} - e^{\\lambda{\\left (\\tau,R \\right )}} \\frac{\\partial}{\\partial \\tau} \\lambda{\\left (\\tau,R \\right )} \\frac{\\partial}{\\partial \\tau} \\nu{\\left (\\tau,R \\right )} + e^{\\lambda{\\left (\\tau,R \\right )}} \\frac{\\partial}{\\partial \\tau} \\mu{\\left (\\tau,R \\right )}^{2} - e^{\\lambda{\\left (\\tau,R \\right )}} \\frac{\\partial}{\\partial \\tau} \\mu{\\left (\\tau,R \\right )} \\frac{\\partial}{\\partial \\tau} \\nu{\\left (\\tau,R \\right )} + 2 e^{\\lambda{\\left (\\tau,R \\right )}} \\frac{\\partial^{2}}{\\partial \\tau^{2}}  \\lambda{\\left (\\tau,R \\right )} + 2 e^{\\lambda{\\left (\\tau,R \\right )}} \\frac{\\partial^{2}}{\\partial \\tau^{2}}  \\mu{\\left (\\tau,R \\right )} + e^{\\nu{\\left (\\tau,R \\right )}} \\frac{\\partial}{\\partial R} \\lambda{\\left (\\tau,R \\right )} \\frac{\\partial}{\\partial R} \\mu{\\left (\\tau,R \\right )} + e^{\\nu{\\left (\\tau,R \\right )}} \\frac{\\partial}{\\partial R} \\lambda{\\left (\\tau,R \\right )} \\frac{\\partial}{\\partial R} \\nu{\\left (\\tau,R \\right )} - e^{\\nu{\\left (\\tau,R \\right )}} \\frac{\\partial}{\\partial R} \\mu{\\left (\\tau,R \\right )}^{2} - e^{\\nu{\\left (\\tau,R \\right )}} \\frac{\\partial}{\\partial R} \\mu{\\left (\\tau,R \\right )} \\frac{\\partial}{\\partial R} \\nu{\\left (\\tau,R \\right )} - e^{\\nu{\\left (\\tau,R \\right )}} \\frac{\\partial}{\\partial R} \\nu{\\left (\\tau,R \\right )}^{2} - 2 e^{\\nu{\\left (\\tau,R \\right )}} \\frac{\\partial^{2}}{\\partial R^{2}}  \\mu{\\left (\\tau,R \\right )} - 2 e^{\\nu{\\left (\\tau,R \\right )}} \\frac{\\partial^{2}}{\\partial R^{2}}  \\nu{\\left (\\tau,R \\right )}\\right) e^{- \\lambda{\\left (\\tau,R \\right )}} e^{- \\nu{\\left (\\tau,R \\right )}}\\end{equation}"
       ],
       "metadata": {},
       "output_type": "display_data",
       "text": [
        "<IPython.core.display.Latex at 0x7fd9e2674850>"
       ]
      }
     ],
     "prompt_number": 4
    },
    {
     "cell_type": "code",
     "collapsed": false,
     "input": [],
     "language": "python",
     "metadata": {},
     "outputs": []
    }
   ],
   "metadata": {}
  }
 ]
}