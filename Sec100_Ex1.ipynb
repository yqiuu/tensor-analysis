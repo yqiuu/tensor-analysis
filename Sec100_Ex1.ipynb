{
 "cells": [
  {
   "cell_type": "code",
   "execution_count": 1,
   "metadata": {
    "collapsed": false
   },
   "outputs": [
    {
     "data": {
      "text/latex": [
       "\\begin{equation}\\Gamma{}^{0}{}_{0}{}_{1}=\\Gamma{}^{0}{}_{1}{}_{0}=-\\Gamma{}^{1}{}_{1}{}_{1}=\\frac{r_{g}}{2 r \\left(r - r_{g}\\right)}\\end{equation}"
      ],
      "text/plain": [
       "<IPython.core.display.Latex object>"
      ]
     },
     "metadata": {},
     "output_type": "display_data"
    },
    {
     "data": {
      "text/latex": [
       "\\begin{equation}\\Gamma{}^{1}{}_{0}{}_{0}=\\frac{r_{g} \\left(r - r_{g}\\right)}{2 r^{3}}\\end{equation}"
      ],
      "text/plain": [
       "<IPython.core.display.Latex object>"
      ]
     },
     "metadata": {},
     "output_type": "display_data"
    },
    {
     "data": {
      "text/latex": [
       "\\begin{equation}\\Gamma{}^{1}{}_{2}{}_{2}=- r + r_{g}\\end{equation}"
      ],
      "text/plain": [
       "<IPython.core.display.Latex object>"
      ]
     },
     "metadata": {},
     "output_type": "display_data"
    },
    {
     "data": {
      "text/latex": [
       "\\begin{equation}\\Gamma{}^{1}{}_{3}{}_{3}=- \\left(r - r_{g}\\right) \\sin^{2}{\\left (\\theta \\right )}\\end{equation}"
      ],
      "text/plain": [
       "<IPython.core.display.Latex object>"
      ]
     },
     "metadata": {},
     "output_type": "display_data"
    },
    {
     "data": {
      "text/latex": [
       "\\begin{equation}\\Gamma{}^{2}{}_{1}{}_{2}=\\Gamma{}^{2}{}_{2}{}_{1}=\\Gamma{}^{3}{}_{1}{}_{3}=\\Gamma{}^{3}{}_{3}{}_{1}=\\frac{1}{r}\\end{equation}"
      ],
      "text/plain": [
       "<IPython.core.display.Latex object>"
      ]
     },
     "metadata": {},
     "output_type": "display_data"
    },
    {
     "data": {
      "text/latex": [
       "\\begin{equation}\\Gamma{}^{2}{}_{3}{}_{3}=- \\sin{\\left (\\theta \\right )} \\cos{\\left (\\theta \\right )}\\end{equation}"
      ],
      "text/plain": [
       "<IPython.core.display.Latex object>"
      ]
     },
     "metadata": {},
     "output_type": "display_data"
    },
    {
     "data": {
      "text/latex": [
       "\\begin{equation}\\Gamma{}^{3}{}_{2}{}_{3}=\\Gamma{}^{3}{}_{3}{}_{2}=\\frac{\\cos{\\left (\\theta \\right )}}{\\sin{\\left (\\theta \\right )}}\\end{equation}"
      ],
      "text/plain": [
       "<IPython.core.display.Latex object>"
      ]
     },
     "metadata": {},
     "output_type": "display_data"
    }
   ],
   "source": [
    "# The classical theory of fields\n",
    "# Section 100\n",
    "# Excerise 1\n",
    "\n",
    "import sym_TA as ta\n",
    "import sympy as sym\n",
    "\n",
    "i, j, k, l, m, n, o, p, q = range(101, 110)\n",
    "t, r, theta, phi = sym.symbols('t, r, theta, phi', real = True)\n",
    "rg = sym.symbols('r_g', real = True)\n",
    "\n",
    "g = ta.SetMetric(np.array([t, r, theta, phi]), \n",
    "                 np.array([[1 - rg/r, 0 ,0 ,0],\n",
    "                           [0, -1/(1 - rg/r), 0, 0],\n",
    "                           [0, 0, -r**2, 0],\n",
    "                           [0, 0, 0, -r**2*sym.sin(theta)**2]]))\n",
    "\n",
    "ch = ta.Tensor((0, 1, 1), name = '\\\\Gamma')\n",
    "ch[i, -j, -k] = 0.5*g[i,l]*(g[-l,-j].der(-k) + g[-l,-k].der(-j) - g[-j,-k].der(-l))\n",
    "ch.simplify(collect = (sym.sin(theta),))\n",
    "ta.Disp(ch, collect = 1/r)"
   ]
  },
  {
   "cell_type": "code",
   "execution_count": 2,
   "metadata": {
    "collapsed": false
   },
   "outputs": [
    {
     "data": {
      "text/latex": [
       "\\begin{equation}R{}_{0}{}_{1}{}_{0}{}_{1}=-R{}_{0}{}_{1}{}_{1}{}_{0}=-R{}_{1}{}_{0}{}_{0}{}_{1}=R{}_{1}{}_{0}{}_{1}{}_{0}=\\frac{r_{g}}{r^{3}}\\end{equation}"
      ],
      "text/plain": [
       "<IPython.core.display.Latex object>"
      ]
     },
     "metadata": {},
     "output_type": "display_data"
    },
    {
     "data": {
      "text/latex": [
       "\\begin{equation}R{}_{0}{}_{2}{}_{0}{}_{2}=-R{}_{0}{}_{2}{}_{2}{}_{0}=-R{}_{2}{}_{0}{}_{0}{}_{2}=R{}_{2}{}_{0}{}_{2}{}_{0}=- \\frac{r_{g} \\left(r - r_{g}\\right)}{2 r^{2}}\\end{equation}"
      ],
      "text/plain": [
       "<IPython.core.display.Latex object>"
      ]
     },
     "metadata": {},
     "output_type": "display_data"
    },
    {
     "data": {
      "text/latex": [
       "\\begin{equation}R{}_{0}{}_{3}{}_{0}{}_{3}=-R{}_{0}{}_{3}{}_{3}{}_{0}=-R{}_{3}{}_{0}{}_{0}{}_{3}=R{}_{3}{}_{0}{}_{3}{}_{0}=- \\frac{r_{g}}{2 r^{2}} \\left(r - r_{g}\\right) \\sin^{2}{\\left (\\theta \\right )}\\end{equation}"
      ],
      "text/plain": [
       "<IPython.core.display.Latex object>"
      ]
     },
     "metadata": {},
     "output_type": "display_data"
    },
    {
     "data": {
      "text/latex": [
       "\\begin{equation}R{}_{1}{}_{2}{}_{1}{}_{2}=-R{}_{1}{}_{2}{}_{2}{}_{1}=-R{}_{2}{}_{1}{}_{1}{}_{2}=R{}_{2}{}_{1}{}_{2}{}_{1}=\\frac{r_{g}}{2 r - 2 r_{g}}\\end{equation}"
      ],
      "text/plain": [
       "<IPython.core.display.Latex object>"
      ]
     },
     "metadata": {},
     "output_type": "display_data"
    },
    {
     "data": {
      "text/latex": [
       "\\begin{equation}R{}_{1}{}_{3}{}_{1}{}_{3}=-R{}_{1}{}_{3}{}_{3}{}_{1}=-R{}_{3}{}_{1}{}_{1}{}_{3}=R{}_{3}{}_{1}{}_{3}{}_{1}=\\frac{r_{g} \\sin^{2}{\\left (\\theta \\right )}}{2 r - 2 r_{g}}\\end{equation}"
      ],
      "text/plain": [
       "<IPython.core.display.Latex object>"
      ]
     },
     "metadata": {},
     "output_type": "display_data"
    },
    {
     "data": {
      "text/latex": [
       "\\begin{equation}R{}_{2}{}_{3}{}_{2}{}_{3}=-R{}_{2}{}_{3}{}_{3}{}_{2}=-R{}_{3}{}_{2}{}_{2}{}_{3}=R{}_{3}{}_{2}{}_{3}{}_{2}=- r r_{g} \\sin^{2}{\\left (\\theta \\right )}\\end{equation}"
      ],
      "text/plain": [
       "<IPython.core.display.Latex object>"
      ]
     },
     "metadata": {},
     "output_type": "display_data"
    }
   ],
   "source": [
    "Riemann = ta.Tensor(4, name = 'R')\n",
    "Riemann[i, -j, -k, -l] = ch[i, -j, -l].der(-k) - ch[i, -j, -k].der(-l) + ch[i, -m, -k]*ch[m, -j, -l] - ch[i, -m, -l]*ch[m, -j, -k]\n",
    "#Riemann = Riemann[-i, -j, -k, -l]\n",
    "Riemann.simplify(collect = (sym.sin(theta),))\n",
    "ta.Disp(Riemann[-i,-k,-l,-m], factor = True)\n",
    "\n"
   ]
  },
  {
   "cell_type": "code",
   "execution_count": 3,
   "metadata": {
    "collapsed": false
   },
   "outputs": [
    {
     "data": {
      "text/latex": [
       "\\begin{equation}\\frac{r_{g}^{2}}{4 r^{6}}\\end{equation}"
      ],
      "text/plain": [
       "<IPython.core.display.Latex object>"
      ]
     },
     "metadata": {},
     "output_type": "display_data"
    }
   ],
   "source": [
    "ta.Disp(Riemann[i,k,l,m]*Riemann[-i,-k,-l,-m]/48)"
   ]
  },
  {
   "cell_type": "code",
   "execution_count": 4,
   "metadata": {
    "collapsed": false
   },
   "outputs": [
    {
     "data": {
      "text/latex": [
       "\\begin{equation}- \\frac{r_{g}^{3}}{8 r^{9}}\\end{equation}"
      ],
      "text/plain": [
       "<IPython.core.display.Latex object>"
      ]
     },
     "metadata": {},
     "output_type": "display_data"
    }
   ],
   "source": [
    "ta.Disp(Riemann[-i,-j,-k,-l]*Riemann[k,l,m,n]*Riemann[-m,-n,i,j]/96)"
   ]
  }
 ],
 "metadata": {
  "kernelspec": {
   "display_name": "Python 2",
   "language": "python",
   "name": "python2"
  },
  "language_info": {
   "codemirror_mode": {
    "name": "ipython",
    "version": 2
   },
   "file_extension": ".py",
   "mimetype": "text/x-python",
   "name": "python",
   "nbconvert_exporter": "python",
   "pygments_lexer": "ipython2",
   "version": "2.7.13"
  }
 },
 "nbformat": 4,
 "nbformat_minor": 0
}
