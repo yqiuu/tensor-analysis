{
 "cells": [
  {
   "cell_type": "code",
   "execution_count": 1,
   "metadata": {
    "collapsed": false
   },
   "outputs": [
    {
     "data": {
      "text/latex": [
       "\\begin{equation}\\Gamma{}^{0}{}_{0}{}_{0}=\\frac{1}{2} \\frac{\\partial}{\\partial t} \\nu{\\left (t,r \\right )}\\end{equation}"
      ],
      "text/plain": [
       "<IPython.core.display.Latex object>"
      ]
     },
     "metadata": {},
     "output_type": "display_data"
    },
    {
     "data": {
      "text/latex": [
       "\\begin{equation}\\Gamma{}^{0}{}_{0}{}_{1}=\\Gamma{}^{0}{}_{1}{}_{0}=\\frac{1}{2} \\frac{\\partial}{\\partial r} \\nu{\\left (t,r \\right )}\\end{equation}"
      ],
      "text/plain": [
       "<IPython.core.display.Latex object>"
      ]
     },
     "metadata": {},
     "output_type": "display_data"
    },
    {
     "data": {
      "text/latex": [
       "\\begin{equation}\\Gamma{}^{0}{}_{1}{}_{1}=\\frac{1}{2} e^{\\lambda{\\left (t,r \\right )}} e^{- \\nu{\\left (t,r \\right )}} \\frac{\\partial}{\\partial t} \\lambda{\\left (t,r \\right )}\\end{equation}"
      ],
      "text/plain": [
       "<IPython.core.display.Latex object>"
      ]
     },
     "metadata": {},
     "output_type": "display_data"
    },
    {
     "data": {
      "text/latex": [
       "\\begin{equation}\\Gamma{}^{1}{}_{0}{}_{0}=\\frac{1}{2} e^{- \\lambda{\\left (t,r \\right )}} e^{\\nu{\\left (t,r \\right )}} \\frac{\\partial}{\\partial r} \\nu{\\left (t,r \\right )}\\end{equation}"
      ],
      "text/plain": [
       "<IPython.core.display.Latex object>"
      ]
     },
     "metadata": {},
     "output_type": "display_data"
    },
    {
     "data": {
      "text/latex": [
       "\\begin{equation}\\Gamma{}^{1}{}_{0}{}_{1}=\\Gamma{}^{1}{}_{1}{}_{0}=\\frac{1}{2} \\frac{\\partial}{\\partial t} \\lambda{\\left (t,r \\right )}\\end{equation}"
      ],
      "text/plain": [
       "<IPython.core.display.Latex object>"
      ]
     },
     "metadata": {},
     "output_type": "display_data"
    },
    {
     "data": {
      "text/latex": [
       "\\begin{equation}\\Gamma{}^{1}{}_{1}{}_{1}=\\frac{1}{2} \\frac{\\partial}{\\partial r} \\lambda{\\left (t,r \\right )}\\end{equation}"
      ],
      "text/plain": [
       "<IPython.core.display.Latex object>"
      ]
     },
     "metadata": {},
     "output_type": "display_data"
    },
    {
     "data": {
      "text/latex": [
       "\\begin{equation}\\Gamma{}^{1}{}_{2}{}_{2}=- r e^{- \\lambda{\\left (t,r \\right )}}\\end{equation}"
      ],
      "text/plain": [
       "<IPython.core.display.Latex object>"
      ]
     },
     "metadata": {},
     "output_type": "display_data"
    },
    {
     "data": {
      "text/latex": [
       "\\begin{equation}\\Gamma{}^{1}{}_{3}{}_{3}=- r e^{- \\lambda{\\left (t,r \\right )}} \\sin^{2}{\\left (\\theta \\right )}\\end{equation}"
      ],
      "text/plain": [
       "<IPython.core.display.Latex object>"
      ]
     },
     "metadata": {},
     "output_type": "display_data"
    },
    {
     "data": {
      "text/latex": [
       "\\begin{equation}\\Gamma{}^{2}{}_{1}{}_{2}=\\Gamma{}^{2}{}_{2}{}_{1}=\\Gamma{}^{3}{}_{1}{}_{3}=\\Gamma{}^{3}{}_{3}{}_{1}=\\frac{1}{r}\\end{equation}"
      ],
      "text/plain": [
       "<IPython.core.display.Latex object>"
      ]
     },
     "metadata": {},
     "output_type": "display_data"
    },
    {
     "data": {
      "text/latex": [
       "\\begin{equation}\\Gamma{}^{2}{}_{3}{}_{3}=- \\sin{\\left (\\theta \\right )} \\cos{\\left (\\theta \\right )}\\end{equation}"
      ],
      "text/plain": [
       "<IPython.core.display.Latex object>"
      ]
     },
     "metadata": {},
     "output_type": "display_data"
    },
    {
     "data": {
      "text/latex": [
       "\\begin{equation}\\Gamma{}^{3}{}_{2}{}_{3}=\\Gamma{}^{3}{}_{3}{}_{2}=\\frac{\\cos{\\left (\\theta \\right )}}{\\sin{\\left (\\theta \\right )}}\\end{equation}"
      ],
      "text/plain": [
       "<IPython.core.display.Latex object>"
      ]
     },
     "metadata": {},
     "output_type": "display_data"
    }
   ],
   "source": [
    "# Schwarzschild black hole\n",
    "\n",
    "import sym_TA as ta\n",
    "import sympy as sym\n",
    "\n",
    "i, j, k, l, m, n, o, p, q = range(101, 110)\n",
    "t, r, theta, phi = sym.symbols('t, r, theta, phi', real = True)\n",
    "nu = sym.Function('nu')(t, r)\n",
    "lam = sym.Function('lambda')(t, r)\n",
    "\n",
    "g = ta.SetMetric(np.array([t, r, theta, phi]), \n",
    "                 np.array([[sym.exp(nu), 0 ,0 ,0],\n",
    "                           [0, -sym.exp(lam), 0, 0],\n",
    "                           [0, 0, -r**2, 0],\n",
    "                           [0, 0, 0, -r**2*sym.sin(theta)**2]]))\n",
    "\n",
    "# Christoffel Symbol\n",
    "ch = ta.Tensor((0, 1, 1), name = '\\\\Gamma')\n",
    "ch[i, -j, -k] = 0.5*g[i,l]*(g[-l,-j].der(-k) + g[-l,-k].der(-j) - g[-j,-k].der(-l))\n",
    "ch.simplify(collect = (sym.sin(theta),))\n",
    "ta.Disp(ch)"
   ]
  },
  {
   "cell_type": "code",
   "execution_count": 2,
   "metadata": {
    "collapsed": false
   },
   "outputs": [
    {
     "data": {
      "text/latex": [
       "\\begin{equation}R{}_{0}{}_{1}{}_{0}{}_{1}=-R{}_{0}{}_{1}{}_{1}{}_{0}=-R{}_{1}{}_{0}{}_{0}{}_{1}=R{}_{1}{}_{0}{}_{1}{}_{0}=\\frac{1}{4} \\left(e^{\\lambda{\\left (t,r \\right )}} \\frac{\\partial}{\\partial t} \\lambda{\\left (t,r \\right )}^{2} - e^{\\lambda{\\left (t,r \\right )}} \\frac{\\partial}{\\partial t} \\lambda{\\left (t,r \\right )} \\frac{\\partial}{\\partial t} \\nu{\\left (t,r \\right )} + 2 e^{\\lambda{\\left (t,r \\right )}} \\frac{\\partial^{2}}{\\partial t^{2}}  \\lambda{\\left (t,r \\right )} + e^{\\nu{\\left (t,r \\right )}} \\frac{\\partial}{\\partial r} \\lambda{\\left (t,r \\right )} \\frac{\\partial}{\\partial r} \\nu{\\left (t,r \\right )} - e^{\\nu{\\left (t,r \\right )}} \\frac{\\partial}{\\partial r} \\nu{\\left (t,r \\right )}^{2} - 2 e^{\\nu{\\left (t,r \\right )}} \\frac{\\partial^{2}}{\\partial r^{2}}  \\nu{\\left (t,r \\right )}\\right)\\end{equation}"
      ],
      "text/plain": [
       "<IPython.core.display.Latex object>"
      ]
     },
     "metadata": {},
     "output_type": "display_data"
    },
    {
     "data": {
      "text/latex": [
       "\\begin{equation}R{}_{0}{}_{2}{}_{0}{}_{2}=-R{}_{0}{}_{2}{}_{2}{}_{0}=-R{}_{2}{}_{0}{}_{0}{}_{2}=R{}_{2}{}_{0}{}_{2}{}_{0}=- \\frac{r}{2} e^{- \\lambda{\\left (t,r \\right )}} e^{\\nu{\\left (t,r \\right )}} \\frac{\\partial}{\\partial r} \\nu{\\left (t,r \\right )}\\end{equation}"
      ],
      "text/plain": [
       "<IPython.core.display.Latex object>"
      ]
     },
     "metadata": {},
     "output_type": "display_data"
    },
    {
     "data": {
      "text/latex": [
       "\\begin{equation}R{}_{0}{}_{2}{}_{1}{}_{2}=-R{}_{0}{}_{2}{}_{2}{}_{1}=R{}_{1}{}_{2}{}_{0}{}_{2}=-R{}_{1}{}_{2}{}_{2}{}_{0}=-R{}_{2}{}_{0}{}_{1}{}_{2}=R{}_{2}{}_{0}{}_{2}{}_{1}=-R{}_{2}{}_{1}{}_{0}{}_{2}=R{}_{2}{}_{1}{}_{2}{}_{0}=- \\frac{r}{2} \\frac{\\partial}{\\partial t} \\lambda{\\left (t,r \\right )}\\end{equation}"
      ],
      "text/plain": [
       "<IPython.core.display.Latex object>"
      ]
     },
     "metadata": {},
     "output_type": "display_data"
    },
    {
     "data": {
      "text/latex": [
       "\\begin{equation}R{}_{0}{}_{3}{}_{0}{}_{3}=-R{}_{0}{}_{3}{}_{3}{}_{0}=-R{}_{3}{}_{0}{}_{0}{}_{3}=R{}_{3}{}_{0}{}_{3}{}_{0}=- \\frac{r}{2} e^{- \\lambda{\\left (t,r \\right )}} e^{\\nu{\\left (t,r \\right )}} \\sin^{2}{\\left (\\theta \\right )} \\frac{\\partial}{\\partial r} \\nu{\\left (t,r \\right )}\\end{equation}"
      ],
      "text/plain": [
       "<IPython.core.display.Latex object>"
      ]
     },
     "metadata": {},
     "output_type": "display_data"
    },
    {
     "data": {
      "text/latex": [
       "\\begin{equation}R{}_{0}{}_{3}{}_{1}{}_{3}=-R{}_{0}{}_{3}{}_{3}{}_{1}=R{}_{1}{}_{3}{}_{0}{}_{3}=-R{}_{1}{}_{3}{}_{3}{}_{0}=-R{}_{3}{}_{0}{}_{1}{}_{3}=R{}_{3}{}_{0}{}_{3}{}_{1}=-R{}_{3}{}_{1}{}_{0}{}_{3}=R{}_{3}{}_{1}{}_{3}{}_{0}=- \\frac{r}{2} \\sin^{2}{\\left (\\theta \\right )} \\frac{\\partial}{\\partial t} \\lambda{\\left (t,r \\right )}\\end{equation}"
      ],
      "text/plain": [
       "<IPython.core.display.Latex object>"
      ]
     },
     "metadata": {},
     "output_type": "display_data"
    },
    {
     "data": {
      "text/latex": [
       "\\begin{equation}R{}_{1}{}_{2}{}_{1}{}_{2}=-R{}_{1}{}_{2}{}_{2}{}_{1}=-R{}_{2}{}_{1}{}_{1}{}_{2}=R{}_{2}{}_{1}{}_{2}{}_{1}=- \\frac{r}{2} \\frac{\\partial}{\\partial r} \\lambda{\\left (t,r \\right )}\\end{equation}"
      ],
      "text/plain": [
       "<IPython.core.display.Latex object>"
      ]
     },
     "metadata": {},
     "output_type": "display_data"
    },
    {
     "data": {
      "text/latex": [
       "\\begin{equation}R{}_{1}{}_{3}{}_{1}{}_{3}=-R{}_{1}{}_{3}{}_{3}{}_{1}=-R{}_{3}{}_{1}{}_{1}{}_{3}=R{}_{3}{}_{1}{}_{3}{}_{1}=- \\frac{r}{2} \\sin^{2}{\\left (\\theta \\right )} \\frac{\\partial}{\\partial r} \\lambda{\\left (t,r \\right )}\\end{equation}"
      ],
      "text/plain": [
       "<IPython.core.display.Latex object>"
      ]
     },
     "metadata": {},
     "output_type": "display_data"
    },
    {
     "data": {
      "text/latex": [
       "\\begin{equation}R{}_{2}{}_{3}{}_{2}{}_{3}=-R{}_{2}{}_{3}{}_{3}{}_{2}=-R{}_{3}{}_{2}{}_{2}{}_{3}=R{}_{3}{}_{2}{}_{3}{}_{2}=- r^{2} \\left(e^{\\lambda{\\left (t,r \\right )}} - 1\\right) e^{- \\lambda{\\left (t,r \\right )}} \\sin^{2}{\\left (\\theta \\right )}\\end{equation}"
      ],
      "text/plain": [
       "<IPython.core.display.Latex object>"
      ]
     },
     "metadata": {},
     "output_type": "display_data"
    }
   ],
   "source": [
    "# Riemann Tensor\n",
    "Riemann = ta.Tensor(4, name = 'R')\n",
    "Riemann[i,-k,-l,-m] = ch[i,-k,-m].der(-l) - ch[i,-k,-l].der(-m) + ch[i,-l,-n]*ch[n,-k,-m] - ch[i,-m,-n]*ch[n,-k,-l]\n",
    "ta.Disp(Riemann[-i,-k,-l,-m])"
   ]
  },
  {
   "cell_type": "code",
   "execution_count": 3,
   "metadata": {
    "collapsed": false
   },
   "outputs": [
    {
     "data": {
      "text/latex": [
       "\\begin{equation}R{}_{0}{}_{0}=- \\frac{1}{4 r} \\left(r e^{\\lambda{\\left (t,r \\right )}} \\frac{\\partial}{\\partial t} \\lambda{\\left (t,r \\right )}^{2} - r e^{\\lambda{\\left (t,r \\right )}} \\frac{\\partial}{\\partial t} \\lambda{\\left (t,r \\right )} \\frac{\\partial}{\\partial t} \\nu{\\left (t,r \\right )} + 2 r e^{\\lambda{\\left (t,r \\right )}} \\frac{\\partial^{2}}{\\partial t^{2}}  \\lambda{\\left (t,r \\right )} + r e^{\\nu{\\left (t,r \\right )}} \\frac{\\partial}{\\partial r} \\lambda{\\left (t,r \\right )} \\frac{\\partial}{\\partial r} \\nu{\\left (t,r \\right )} - r e^{\\nu{\\left (t,r \\right )}} \\frac{\\partial}{\\partial r} \\nu{\\left (t,r \\right )}^{2} - 2 r e^{\\nu{\\left (t,r \\right )}} \\frac{\\partial^{2}}{\\partial r^{2}}  \\nu{\\left (t,r \\right )} - 4 e^{\\nu{\\left (t,r \\right )}} \\frac{\\partial}{\\partial r} \\nu{\\left (t,r \\right )}\\right) e^{- \\lambda{\\left (t,r \\right )}}\\end{equation}"
      ],
      "text/plain": [
       "<IPython.core.display.Latex object>"
      ]
     },
     "metadata": {},
     "output_type": "display_data"
    },
    {
     "data": {
      "text/latex": [
       "\\begin{equation}R{}_{0}{}_{1}=R{}_{1}{}_{0}=\\frac{1}{r} \\frac{\\partial}{\\partial t} \\lambda{\\left (t,r \\right )}\\end{equation}"
      ],
      "text/plain": [
       "<IPython.core.display.Latex object>"
      ]
     },
     "metadata": {},
     "output_type": "display_data"
    },
    {
     "data": {
      "text/latex": [
       "\\begin{equation}R{}_{1}{}_{1}=\\frac{1}{4 r} \\left(r e^{\\lambda{\\left (t,r \\right )}} \\frac{\\partial}{\\partial t} \\lambda{\\left (t,r \\right )}^{2} - r e^{\\lambda{\\left (t,r \\right )}} \\frac{\\partial}{\\partial t} \\lambda{\\left (t,r \\right )} \\frac{\\partial}{\\partial t} \\nu{\\left (t,r \\right )} + 2 r e^{\\lambda{\\left (t,r \\right )}} \\frac{\\partial^{2}}{\\partial t^{2}}  \\lambda{\\left (t,r \\right )} + r e^{\\nu{\\left (t,r \\right )}} \\frac{\\partial}{\\partial r} \\lambda{\\left (t,r \\right )} \\frac{\\partial}{\\partial r} \\nu{\\left (t,r \\right )} - r e^{\\nu{\\left (t,r \\right )}} \\frac{\\partial}{\\partial r} \\nu{\\left (t,r \\right )}^{2} - 2 r e^{\\nu{\\left (t,r \\right )}} \\frac{\\partial^{2}}{\\partial r^{2}}  \\nu{\\left (t,r \\right )} + 4 e^{\\nu{\\left (t,r \\right )}} \\frac{\\partial}{\\partial r} \\lambda{\\left (t,r \\right )}\\right) e^{- \\nu{\\left (t,r \\right )}}\\end{equation}"
      ],
      "text/plain": [
       "<IPython.core.display.Latex object>"
      ]
     },
     "metadata": {},
     "output_type": "display_data"
    },
    {
     "data": {
      "text/latex": [
       "\\begin{equation}R{}_{2}{}_{2}=\\frac{1}{2} \\left(r \\frac{\\partial}{\\partial r} \\lambda{\\left (t,r \\right )} - r \\frac{\\partial}{\\partial r} \\nu{\\left (t,r \\right )} + 2 e^{\\lambda{\\left (t,r \\right )}} - 2\\right) e^{- \\lambda{\\left (t,r \\right )}}\\end{equation}"
      ],
      "text/plain": [
       "<IPython.core.display.Latex object>"
      ]
     },
     "metadata": {},
     "output_type": "display_data"
    },
    {
     "data": {
      "text/latex": [
       "\\begin{equation}R{}_{3}{}_{3}=\\frac{1}{2} \\left(r \\frac{\\partial}{\\partial r} \\lambda{\\left (t,r \\right )} - r \\frac{\\partial}{\\partial r} \\nu{\\left (t,r \\right )} + 2 e^{\\lambda{\\left (t,r \\right )}} - 2\\right) e^{- \\lambda{\\left (t,r \\right )}} \\sin^{2}{\\left (\\theta \\right )}\\end{equation}"
      ],
      "text/plain": [
       "<IPython.core.display.Latex object>"
      ]
     },
     "metadata": {},
     "output_type": "display_data"
    }
   ],
   "source": [
    "# Ricci Tensor\n",
    "Ricci = ta.Tensor(2, name = 'R')\n",
    "Ricci[-i,-k] = ch[l,-i,-k].der(-l) - ch[l,-i,-l].der(-k) + ch[l,-i,-k]*ch[m,-l,-m] - ch[l,-i,-m]*ch[m,-k,-l]\n",
    "ta.Disp(Ricci[-i,-k])"
   ]
  },
  {
   "cell_type": "code",
   "execution_count": 4,
   "metadata": {
    "collapsed": false
   },
   "outputs": [
    {
     "data": {
      "text/latex": [
       "\\begin{equation}G{}^{0}{}_{0}=\\frac{1}{r^{2}} \\left(r \\frac{\\partial}{\\partial r} \\lambda{\\left (t,r \\right )} + e^{\\lambda{\\left (t,r \\right )}} - 1\\right) e^{- \\lambda{\\left (t,r \\right )}}\\end{equation}"
      ],
      "text/plain": [
       "<IPython.core.display.Latex object>"
      ]
     },
     "metadata": {},
     "output_type": "display_data"
    },
    {
     "data": {
      "text/latex": [
       "\\begin{equation}G{}^{0}{}_{1}=\\frac{1}{r} e^{- \\nu{\\left (t,r \\right )}} \\frac{\\partial}{\\partial t} \\lambda{\\left (t,r \\right )}\\end{equation}"
      ],
      "text/plain": [
       "<IPython.core.display.Latex object>"
      ]
     },
     "metadata": {},
     "output_type": "display_data"
    },
    {
     "data": {
      "text/latex": [
       "\\begin{equation}G{}^{1}{}_{0}=- \\frac{1}{r} e^{- \\lambda{\\left (t,r \\right )}} \\frac{\\partial}{\\partial t} \\lambda{\\left (t,r \\right )}\\end{equation}"
      ],
      "text/plain": [
       "<IPython.core.display.Latex object>"
      ]
     },
     "metadata": {},
     "output_type": "display_data"
    },
    {
     "data": {
      "text/latex": [
       "\\begin{equation}G{}^{1}{}_{1}=- \\frac{1}{r^{2}} \\left(r \\frac{\\partial}{\\partial r} \\nu{\\left (t,r \\right )} - e^{\\lambda{\\left (t,r \\right )}} + 1\\right) e^{- \\lambda{\\left (t,r \\right )}}\\end{equation}"
      ],
      "text/plain": [
       "<IPython.core.display.Latex object>"
      ]
     },
     "metadata": {},
     "output_type": "display_data"
    },
    {
     "data": {
      "text/latex": [
       "\\begin{equation}G{}^{2}{}_{2}=G{}^{3}{}_{3}=\\frac{1}{4 r} \\left(\\left(r \\frac{\\partial}{\\partial t} \\lambda{\\left (t,r \\right )}^{2} - r \\frac{\\partial}{\\partial t} \\lambda{\\left (t,r \\right )} \\frac{\\partial}{\\partial t} \\nu{\\left (t,r \\right )} + 2 r \\frac{\\partial^{2}}{\\partial t^{2}}  \\lambda{\\left (t,r \\right )}\\right) e^{\\lambda{\\left (t,r \\right )}} + \\left(r \\frac{\\partial}{\\partial r} \\lambda{\\left (t,r \\right )} \\frac{\\partial}{\\partial r} \\nu{\\left (t,r \\right )} - r \\frac{\\partial}{\\partial r} \\nu{\\left (t,r \\right )}^{2} - 2 r \\frac{\\partial^{2}}{\\partial r^{2}}  \\nu{\\left (t,r \\right )} + 2 \\frac{\\partial}{\\partial r} \\lambda{\\left (t,r \\right )} - 2 \\frac{\\partial}{\\partial r} \\nu{\\left (t,r \\right )}\\right) e^{\\nu{\\left (t,r \\right )}}\\right) e^{- \\lambda{\\left (t,r \\right )}} e^{- \\nu{\\left (t,r \\right )}}\\end{equation}"
      ],
      "text/plain": [
       "<IPython.core.display.Latex object>"
      ]
     },
     "metadata": {},
     "output_type": "display_data"
    }
   ],
   "source": [
    "# Einstein Tensor\n",
    "G = ta.Tensor(2, name = 'G')\n",
    "G[i,-k] = Ricci[i,-k] - 0.5*g[i,-k]*Ricci[l,-l]\n",
    "ta.Disp(G, collect=(sym.exp(nu), sym.exp(lam)))"
   ]
  }
 ],
 "metadata": {
  "kernelspec": {
   "display_name": "Python 2",
   "language": "python",
   "name": "python2"
  },
  "language_info": {
   "codemirror_mode": {
    "name": "ipython",
    "version": 2
   },
   "file_extension": ".py",
   "mimetype": "text/x-python",
   "name": "python",
   "nbconvert_exporter": "python",
   "pygments_lexer": "ipython2",
   "version": "2.7.13"
  }
 },
 "nbformat": 4,
 "nbformat_minor": 0
}
